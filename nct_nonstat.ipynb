{
 "cells": [
  {
   "cell_type": "code",
   "execution_count": 1,
   "metadata": {},
   "outputs": [],
   "source": [
    "import numpy as np\n",
    "import seaborn as sns \n",
    "import multiprocessing as mp\n",
    "import matplotlib.pyplot as plt\n",
    "\n",
    "from tqdm.notebook import tqdm\n",
    "\n",
    "import main, param, utils"
   ]
  },
  {
   "cell_type": "code",
   "execution_count": 2,
   "metadata": {},
   "outputs": [],
   "source": [
    "# better graphs\n",
    "sns.set_style(\"whitegrid\")\n",
    "\n",
    "# better progressbar\n",
    "tqdm.pandas()"
   ]
  },
  {
   "cell_type": "code",
   "execution_count": 3,
   "metadata": {},
   "outputs": [],
   "source": [
    "# config\n",
    "seed = 0\n",
    "stationary = False\n",
    "data_prefix = \"nct_\"\n",
    "n_trajectories = 1000\n",
    "n_timepoints = 100 + 1\n",
    "stresses = [0.1, 0.2, 0.5, 0.7, 1.0, 2.0, 5.0, 7.0, 10.0, 20.0, 50.0, 70.0, 100.0]"
   ]
  },
  {
   "cell_type": "code",
   "execution_count": 4,
   "metadata": {},
   "outputs": [],
   "source": [
    "# parameters\n",
    "param.stationary = stationary\n",
    "param.dim = 4\n",
    "param.dt = 0.1\n",
    "param.n_traj = n_trajectories\n",
    "param.t_init = 0.0\n",
    "param.t_fin = 10.0\n",
    "param.x_axis = 0\n",
    "param.y_axis = 1\n",
    "\n",
    "param.n_gradient_ascent = 5000\n",
    "param.which_model = \"FNNKt\"\n",
    "param.which_rep = \"Simple\"\n",
    "param.which_estimator = \"Var\"\n",
    "param.n_layer = 2"
   ]
  },
  {
   "cell_type": "code",
   "execution_count": 5,
   "metadata": {},
   "outputs": [],
   "source": [
    "def compute_metrics(stress):\n",
    "    data_id = data_prefix + str(stress)\n",
    "    estimate_id = data_id\n",
    "\n",
    "    # estimate entropy\n",
    "    main.estimate_entropy(data_id, estimate_id, rand_seed=seed)\n",
    "\n",
    "    # get metrics\n",
    "    metrics = utils.get_metrics(data_id, estimate_id, stress, n_trajectories, n_timepoints, stationary)\n",
    "\n",
    "    return metrics"
   ]
  },
  {
   "cell_type": "code",
   "execution_count": 6,
   "metadata": {},
   "outputs": [
    {
     "data": {
      "application/vnd.jupyter.widget-view+json": {
       "model_id": "ff044d386af8436dbb7975203b27bca4",
       "version_major": 2,
       "version_minor": 0
      },
      "text/plain": [
       "  0%|          | 0/13 [00:00<?, ?it/s]"
      ]
     },
     "metadata": {},
     "output_type": "display_data"
    }
   ],
   "source": [
    "# compute metrics over different stress values\n",
    "all_metrics = []\n",
    "for stress in tqdm(stresses):\n",
    "    all_metrics.append(compute_metrics(stress))"
   ]
  },
  {
   "cell_type": "code",
   "execution_count": null,
   "metadata": {},
   "outputs": [],
   "source": []
  }
 ],
 "metadata": {
  "kernelspec": {
   "display_name": "nct",
   "language": "python",
   "name": "python3"
  },
  "language_info": {
   "codemirror_mode": {
    "name": "ipython",
    "version": 3
   },
   "file_extension": ".py",
   "mimetype": "text/x-python",
   "name": "python",
   "nbconvert_exporter": "python",
   "pygments_lexer": "ipython3",
   "version": "3.9.16"
  },
  "orig_nbformat": 4
 },
 "nbformat": 4,
 "nbformat_minor": 2
}
