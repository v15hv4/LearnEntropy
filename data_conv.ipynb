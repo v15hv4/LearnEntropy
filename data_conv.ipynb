{
 "cells": [
  {
   "cell_type": "code",
   "execution_count": 1,
   "metadata": {},
   "outputs": [],
   "source": [
    "import numpy as np\n",
    "import pandas as pd\n",
    "import seaborn as sns\n",
    "import matplotlib.pyplot as plt"
   ]
  },
  {
   "cell_type": "code",
   "execution_count": 2,
   "metadata": {},
   "outputs": [],
   "source": [
    "sns.set(style=\"whitegrid\")"
   ]
  },
  {
   "cell_type": "code",
   "execution_count": 3,
   "metadata": {},
   "outputs": [],
   "source": [
    "stresses = [0.1, 0.2, 0.3, 0.5, 0.7, 1.0, 2.0, 3.0, 5.0, 7.0, 10.0, 20.0, 30.0, 50.0, 70.0, 100.0]"
   ]
  },
  {
   "cell_type": "code",
   "execution_count": 4,
   "metadata": {},
   "outputs": [],
   "source": [
    "for stress in stresses:\n",
    "    df = pd.read_csv(f\"imported_data/nct-gillespie-{stress}.csv\")\n",
    "    np.savetxt(f\"Data/datanct_{stress}.txt\", df.to_numpy())\n",
    "    np.savetxt(f\"Data/datanct_stationary_{stress}.txt\", df.drop([\"t\"], axis=1).to_numpy())\n",
    "    np.savetxt(f\"Data/datanct_nc_{stress}\", pd.DataFrame({\"t\": df.t, \"nct\": ((df.MN + df.MNA) / (df.M + df.MA))}).to_numpy())\n",
    "    np.savetxt(f\"Data/datanct_stationary_nc_{stress}\", pd.DataFrame({\"nct\": ((df.MN + df.MNA) / (df.M + df.MA))}).to_numpy())"
   ]
  }
 ],
 "metadata": {
  "kernelspec": {
   "display_name": "nct",
   "language": "python",
   "name": "python3"
  },
  "language_info": {
   "codemirror_mode": {
    "name": "ipython",
    "version": 3
   },
   "file_extension": ".py",
   "mimetype": "text/x-python",
   "name": "python",
   "nbconvert_exporter": "python",
   "pygments_lexer": "ipython3",
   "version": "3.9.16"
  },
  "orig_nbformat": 4
 },
 "nbformat": 4,
 "nbformat_minor": 2
}
